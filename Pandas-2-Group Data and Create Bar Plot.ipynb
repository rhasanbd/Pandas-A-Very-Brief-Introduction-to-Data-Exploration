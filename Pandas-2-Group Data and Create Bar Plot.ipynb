{
 "cells": [
  {
   "cell_type": "markdown",
   "metadata": {},
   "source": [
    "# Pandas - Group Data and Create Bar Plot\n",
    "\n",
    "\n",
    "The following example creates a Pandas data frame object, then performs the following tasks.\n",
    "- Group data based on a numeric attribute\n",
    "- Apply various functions on the samples of each group for the attributes, e.g., count, sum, mean\n",
    "- Create bar plots to show aggregate values for each group\n",
    "\n",
    "\n",
    "#### The aggregate functions can be applied only on the numeric attributes. These functions will not work on the attributes of type \"object\"."
   ]
  },
  {
   "cell_type": "code",
   "execution_count": 1,
   "metadata": {},
   "outputs": [],
   "source": [
    "import pandas as pd\n",
    "import numpy as np\n",
    "import matplotlib.pyplot as plt"
   ]
  },
  {
   "cell_type": "code",
   "execution_count": 2,
   "metadata": {},
   "outputs": [
    {
     "name": "stdout",
     "output_type": "stream",
     "text": [
      "DataFrame:            Style  Bed Rooms  Bath Rooms Backyard\n",
      "0  Contemporary          2           1       No\n",
      "1  Contemporary          3           2       No\n",
      "2  Contemporary          2           1       No\n",
      "3   Traditional          5           3      Yes\n",
      "4   Traditional          6           4      Yes\n",
      "\n",
      "Data types of each attribute:  Style         object\n",
      "Bed Rooms      int64\n",
      "Bath Rooms     int64\n",
      "Backyard      object\n",
      "dtype: object\n",
      "\n",
      "Sum of the values of each attribute per 'Style' group:\n",
      "              Bed Rooms  Bath Rooms\n",
      "Style                              \n",
      "Contemporary          7           4\n",
      "Traditional          11           7\n",
      "\n",
      "Mean of the values of each attribute per 'Style' group:\n",
      "              Bed Rooms  Bath Rooms\n",
      "Style                              \n",
      "Contemporary   2.333333    1.333333\n",
      "Traditional    5.500000    3.500000\n",
      "\n",
      "Number of samples of each attribute per 'Style' group:\n",
      "              Bed Rooms  Bath Rooms  Backyard\n",
      "Style                                        \n",
      "Contemporary          3           3         3\n",
      "Traditional           2           2         2\n",
      "\n",
      "Number of samples of the 'Bed Rooms' attribute per 'Style' group:\n",
      "Style\n",
      "Contemporary    3\n",
      "Traditional     2\n",
      "Name: Bed Rooms, dtype: int64\n",
      "\n",
      "Number of samples of the 'Bed Rooms' attribute per 'Style' group (only values):\n",
      "[3 2]\n"
     ]
    },
    {
     "data": {
      "image/png": "[encoded data removed]",
      "text/plain": [
       "<Figure size 576x432 with 1 Axes>"
      ]
     },
     "metadata": {
      "needs_background": "light"
     },
     "output_type": "display_data"
    }
   ],
   "source": [
    "df_test = pd.DataFrame({'Style': ['Contemporary', 'Contemporary','Contemporary', 'Traditional', 'Traditional'], \n",
    "                        'Bed Rooms': [2, 3, 2, 5, 6],\n",
    "                        'Bath Rooms': [1, 2, 1, 3, 4],\n",
    "                        'Backyard': ['No', 'No', 'No', 'Yes', 'Yes']})\n",
    "print(\"DataFrame: \", df_test)\n",
    "print(\"\\nData types of each attribute: \", df_test.dtypes)\n",
    "\n",
    "\n",
    "# Group the data based on the \"Style\" attribute \n",
    "# Then, compute the sum of the values of each attribute for all samples (rows) for each group\n",
    "print(\"\\nSum of the values of each attribute per 'Style' group:\")\n",
    "print(df_test.groupby(['Style']).sum())\n",
    "\n",
    "\n",
    "# Group the data based on the \"Style\" attribute \n",
    "# Then, compute the mean of the values of each attribute for all samples (rows) for each group\n",
    "print(\"\\nMean of the values of each attribute per 'Style' group:\")\n",
    "print(df_test.groupby(['Style']).mean())\n",
    "\n",
    "\n",
    "# Group the data based on the \"Style\" attribute \n",
    "# Then, count number of samples (rows) of each attribute for each group\n",
    "print(\"\\nNumber of samples of each attribute per 'Style' group:\")\n",
    "print(df_test.groupby(['Style']).count())\n",
    "\n",
    "\n",
    "# Group the data based on the \"Style\" attribute \n",
    "# Then, count number of samples (rows) of the 'Bed Rooms' attribute for each 'Style' group\n",
    "print(\"\\nNumber of samples of the 'Bed Rooms' attribute per 'Style' group:\")\n",
    "print(df_test.groupby(['Style']).count()['Bed Rooms'])\n",
    "\n",
    "\n",
    "# Group the data based on the \"Style\" attribute \n",
    "# and count number of samples (rows) of the 'Bed Rooms' attribute for each group\n",
    "# Then, display only the count values\n",
    "print(\"\\nNumber of samples of the 'Bed Rooms' attribute per 'Style' group (only values):\")\n",
    "print(df_test.groupby(['Style']).count()['Bed Rooms'].values)\n",
    "\n",
    "\n",
    "\n",
    "# Plot the mean bed rooms per 'Style' group using a matplotlib.pyplot bar plot\n",
    "groups = ['group 1', 'group 2'] # this list is used to create labels in the x axis\n",
    "\n",
    "group_list = np.arange(0,2,1) # creates a list containing values [0, 1] used in the \"bar\" function\n",
    "mean_bedrooms_per_group = df_test.groupby(['Style']).mean()['Bed Rooms'].values\n",
    "\n",
    "plt.figure(figsize=(8, 6))\n",
    "plt.bar(group_list, mean_bedrooms_per_group, color ='m', width = 0.6)\n",
    "plt.title('Mean Bed Rooms Per Group', fontsize=20)\n",
    "plt.ylabel('Bed Rooms', fontsize=20)\n",
    "plt.xticks(range(len(groups)), groups, rotation=0, fontsize=20)\n",
    "plt.show()"
   ]
  }
 ],
 "metadata": {
  "kernelspec": {
   "display_name": "Python 3",
   "language": "python",
   "name": "python3"
  },
  "language_info": {
   "codemirror_mode": {
    "name": "ipython",
    "version": 3
   },
   "file_extension": ".py",
   "mimetype": "text/x-python",
   "name": "python",
   "nbconvert_exporter": "python",
   "pygments_lexer": "ipython3",
   "version": "3.7.3"
  }
 },
 "nbformat": 4,
 "nbformat_minor": 2
}
