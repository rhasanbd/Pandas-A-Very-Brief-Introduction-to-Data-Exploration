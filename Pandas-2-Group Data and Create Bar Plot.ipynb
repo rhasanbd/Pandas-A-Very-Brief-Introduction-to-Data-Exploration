{
 "cells": [
  {
   "cell_type": "markdown",
   "metadata": {},
   "source": [
    "# Pandas - Group Data and Create Bar Plot\n",
    "\n",
    "\n",
    "The following example creates a Pandas DataFrame object and then performs the following tasks.\n",
    "- Group data based on a numeric attribute\n",
    "- Apply various functions on the samples of each group for the attributes, e.g., count, sum, mean\n",
    "- Create bar plots to show aggregate values for each group\n",
    "\n",
    "\n",
    "#### The aggregate functions can be applied only to the numeric attributes. These functions will not work on the attributes of the type \"object\"."
   ]
  },
  {
   "cell_type": "code",
   "execution_count": 1,
   "metadata": {},
   "outputs": [
    {
     "name": "stderr",
     "output_type": "stream",
     "text": [
      "/var/folders/zd/2ty0m0yn1jzc2zjgq1154kkxxmbbr2/T/ipykernel_35224/2151744951.py:1: DeprecationWarning: \n",
      "Pyarrow will become a required dependency of pandas in the next major release of pandas (pandas 3.0),\n",
      "(to allow more performant data types, such as the Arrow string type, and better interoperability with other libraries)\n",
      "but was not found to be installed on your system.\n",
      "If this would cause problems for you,\n",
      "please provide us feedback at https://github.com/pandas-dev/pandas/issues/54466\n",
      "        \n",
      "  import pandas as pd\n"
     ]
    }
   ],
   "source": [
    "import pandas as pd\n",
    "import numpy as np\n",
    "import matplotlib.pyplot as plt"
   ]
  },
  {
   "cell_type": "code",
   "execution_count": 16,
   "metadata": {},
   "outputs": [
    {
     "name": "stdout",
     "output_type": "stream",
     "text": [
      "DataFrame:            Style  Bed Rooms  Bath Rooms Backyard\n",
      "0  Contemporary          2           1       No\n",
      "1  Contemporary          3           2       No\n",
      "2  Contemporary          2           1       No\n",
      "3   Traditional          5           3      Yes\n",
      "4   Traditional          6           4      Yes\n",
      "\n",
      "Data types of each attribute: \n",
      "Style         object\n",
      "Bed Rooms      int64\n",
      "Bath Rooms     int64\n",
      "Backyard      object\n",
      "dtype: object\n",
      "\n",
      "Sum of the values of each numeric attribute per 'Style' group:\n",
      "              Bed Rooms  Bath Rooms\n",
      "Style                              \n",
      "Contemporary          7           4\n",
      "Traditional          11           7\n",
      "\n",
      "Mean of the values of each numeric attribute per 'Style' group:\n",
      "              Bed Rooms  Bath Rooms\n",
      "Style                              \n",
      "Contemporary   2.333333    1.333333\n",
      "Traditional    5.500000    3.500000\n",
      "\n",
      "Number of samples of each attribute per 'Style' group:\n",
      "              Bed Rooms  Bath Rooms  Backyard\n",
      "Style                                        \n",
      "Contemporary          3           3         3\n",
      "Traditional           2           2         2\n",
      "\n",
      "Number of samples of the 'Bed Rooms' attribute per 'Style' group:\n",
      "Style\n",
      "Contemporary    3\n",
      "Traditional     2\n",
      "Name: Bed Rooms, dtype: int64\n",
      "\n",
      "Number of samples of the 'Bed Rooms' attribute per 'Style' group (only values):\n",
      "[3 2]\n"
     ]
    },
    {
     "data": {
      "image/png": "[encoded data removed]",
      "text/plain": [
       "<Figure size 800x600 with 1 Axes>"
      ]
     },
     "metadata": {},
     "output_type": "display_data"
    }
   ],
   "source": [
    "# Create a small toy DataFrame object for demonstration\n",
    "df_test = pd.DataFrame({'Style': ['Contemporary', 'Contemporary','Contemporary', 'Traditional', 'Traditional'], \n",
    "                        'Bed Rooms': [2, 3, 2, 5, 6],\n",
    "                        'Bath Rooms': [1, 2, 1, 3, 4],\n",
    "                        'Backyard': ['No', 'No', 'No', 'Yes', 'Yes']})\n",
    "\n",
    "print(\"DataFrame: \", df_test)\n",
    "print(\"\\nData types of each attribute: \")\n",
    "print(df_test.dtypes)\n",
    "\n",
    "\n",
    "# Group the data based on the \"Style\" attribute \n",
    "# Select only numeric columns, then compute the sum of the values of each attribute for all samples (rows) for each group\n",
    "print(\"\\nSum of the values of each numeric attribute per 'Style' group:\")\n",
    "print(df_test.groupby(['Style']).sum(numeric_only=True))\n",
    "\n",
    "# Group the data based on the \"Style\" attribute \n",
    "# Select only numeric columns, then compute the mean of the values of each attribute for all samples (rows) for each group\n",
    "print(\"\\nMean of the values of each numeric attribute per 'Style' group:\")\n",
    "print(df_test.groupby(['Style']).mean(numeric_only=True))\n",
    "\n",
    "\n",
    "# Group the data based on the \"Style\" attribute \n",
    "# Then, count the number of samples (rows) of each attribute for each group\n",
    "print(\"\\nNumber of samples of each attribute per 'Style' group:\")\n",
    "print(df_test.groupby(['Style']).count())\n",
    "\n",
    "\n",
    "# Group the data based on the \"Style\" attribute \n",
    "# Then, count the number of samples (rows) of the 'Bed Rooms' attribute for each 'Style' group\n",
    "print(\"\\nNumber of samples of the 'Bed Rooms' attribute per 'Style' group:\")\n",
    "print(df_test.groupby(['Style']).count()['Bed Rooms'])\n",
    "\n",
    "\n",
    "# Group the data based on the \"Style\" attribute \n",
    "# and count the number of samples (rows) of the 'Bed Rooms' attribute for each group\n",
    "# Then, display only the count values\n",
    "print(\"\\nNumber of samples of the 'Bed Rooms' attribute per 'Style' group (only values):\")\n",
    "print(df_test.groupby(['Style']).count()['Bed Rooms'].values)\n",
    "\n",
    "\n",
    "# Plot the mean bedrooms per 'Style' group using a matplotlib.pyplot bar plot\n",
    "#groups = ['group 1', 'group 2'] # This list is used to create labels in the x-axis\n",
    "\n",
    "groups = ['Contemporary', 'Traditional']  # Adjusted group labels to match the 'Style' column\n",
    "group_list = np.arange(len(groups))  # Creates a list containing values [0, 1] for the x-axis\n",
    "\n",
    "\n",
    "mean_bedrooms_per_group = df_test.groupby(['Style'])['Bed Rooms'].mean().values\n",
    "\n",
    "plt.figure(figsize=(8, 6))\n",
    "plt.bar(group_list, mean_bedrooms_per_group, color ='m', width = 0.6)\n",
    "plt.title('Mean Bed Rooms Per Group', fontsize=20)\n",
    "plt.ylabel('Bed Rooms', fontsize=20)\n",
    "plt.xticks(range(len(groups)), groups, rotation=0, fontsize=20)\n",
    "plt.show()\n",
    "\n",
    "\n",
    "\n",
    "\n",
    "# Compute the mean number of bedrooms per 'Style' group\n",
    "mean_bedrooms_per_group = df_test.groupby(['Style'])['Bed Rooms'].mean().values\n",
    "\n",
    "# Check the content of mean_bedrooms_per_group\n",
    "print(\"Mean bedrooms per group:\", mean_bedrooms_per_group)\n",
    "\n",
    "# Now, let's plot it\n",
    "groups = ['Contemporary', 'Traditional']  # Adjusted group labels to match the 'Style' column\n",
    "group_list = np.arange(len(groups))  # Creates a list containing values [0, 1] for the x-axis\n",
    "\n",
    "plt.figure(figsize=(8, 6))\n",
    "plt.bar(group_list, mean_bedrooms_per_group, color='m', width=0.6)\n",
    "plt.title('Mean Bed Rooms Per Group', fontsize=20)\n",
    "plt.ylabel('Bed Rooms', fontsize=20)\n",
    "plt.xticks(group_list, groups, rotation=0, fontsize=20)\n",
    "# plt.show()"
   ]
  }
 ],
 "metadata": {
  "kernelspec": {
   "display_name": "Python 3 (ipykernel)",
   "language": "python",
   "name": "python3"
  },
  "language_info": {
   "codemirror_mode": {
    "name": "ipython",
    "version": 3
   },
   "file_extension": ".py",
   "mimetype": "text/x-python",
   "name": "python",
   "nbconvert_exporter": "python",
   "pygments_lexer": "ipython3",
   "version": "3.11.5"
  }
 },
 "nbformat": 4,
 "nbformat_minor": 4
}
