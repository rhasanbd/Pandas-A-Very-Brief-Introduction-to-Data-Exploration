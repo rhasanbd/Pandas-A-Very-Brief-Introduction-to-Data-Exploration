{
 "cells": [
  {
   "cell_type": "markdown",
   "metadata": {},
   "source": [
    "# Pandas - A Very Brief Introduction to Data Exploration\n",
    "\n",
    "\n",
    "In a machine learning (ML) project, we often get data from CSV/TSV files. Pandas is a convenient tool to load data, process & analyze it before using the data for training an ML model.\n",
    "\n",
    "Pandas is a fast, powerful, flexible, and easy-to-use open-source data analysis and manipulation tool. Pandas stands for **Python Data Analysis Library**. It is built on top of the Python programming language.  \n",
    "\n",
    "Using pandas we can load data from CSV/TSV files. It converts the data into a Python object called DataFrame. The object has rows and columns representing the samples and features, respectively.\n",
    "\n",
    "To train an ML model, we must convert the pandas DataFrame object into arrays (NumPy array): data matrix and one-dimensional target array. But before we do that, we need to do some data processing and exploration.\n",
    "\n",
    "In this notebook, we load a small dataset stored in a CSV file as a pandas DataFrame object. Then, we perform basic data exploration.\n",
    "\n",
    "- Get information on the features (columns)\n",
    "- Check\tcategorical features\n",
    "- One-hot encode categorical features\n",
    "- Check NaN values\n",
    "- Data cleaning (remove/replace missing values)\n",
    "- Compute feature correlation with the target\n",
    "- Visualize feature correlation\n",
    "- Select a subset of columns\n",
    "- Convert data frame objects into arrays\n",
    "\n",
    "See the following link to learn about pandas methods:\n",
    "https://pandas.pydata.org/\n",
    "\n",
    "\n",
    "## Load a CSV File as a Pandas DataFrame Object\n",
    "\n",
    "We use pandas \"read_csv\" method to load the CSV file as a DataFrame object. In most cases, we only need to pass the file path as the first argument.\n",
    "\n",
    "Another argument is \"header\", which could be useful in some cases. By default, header=0. In this case, the read_csv method infers the column names from the first line of the file. Alternatively, column names can be passed explicitly, then the behavior is identical to header=None. \n",
    "\n",
    "For a full list of the arguments of the read_csv method see:\n",
    "https://pandas.pydata.org/pandas-docs/stable/reference/api/pandas.read_csv.html"
   ]
  },
  {
   "cell_type": "code",
   "execution_count": 1,
   "metadata": {},
   "outputs": [
    {
     "name": "stderr",
     "output_type": "stream",
     "text": [
      "/var/folders/zd/2ty0m0yn1jzc2zjgq1154kkxxmbbr2/T/ipykernel_99724/2806221057.py:1: DeprecationWarning: \n",
      "Pyarrow will become a required dependency of pandas in the next major release of pandas (pandas 3.0),\n",
      "(to allow more performant data types, such as the Arrow string type, and better interoperability with other libraries)\n",
      "but was not found to be installed on your system.\n",
      "If this would cause problems for you,\n",
      "please provide us feedback at https://github.com/pandas-dev/pandas/issues/54466\n",
      "        \n",
      "  import pandas as pd\n"
     ]
    },
    {
     "data": {
      "text/html": [
       "<div>\n",
       "<style scoped>\n",
       "    .dataframe tbody tr th:only-of-type {\n",
       "        vertical-align: middle;\n",
       "    }\n",
       "\n",
       "    .dataframe tbody tr th {\n",
       "        vertical-align: top;\n",
       "    }\n",
       "\n",
       "    .dataframe thead th {\n",
       "        text-align: right;\n",
       "    }\n",
       "</style>\n",
       "<table border=\"1\" class=\"dataframe\">\n",
       "  <thead>\n",
       "    <tr style=\"text-align: right;\">\n",
       "      <th></th>\n",
       "      <th>Bedrooms</th>\n",
       "      <th>Backyard</th>\n",
       "      <th>Nearby Schools</th>\n",
       "      <th>Price</th>\n",
       "    </tr>\n",
       "  </thead>\n",
       "  <tbody>\n",
       "    <tr>\n",
       "      <th>0</th>\n",
       "      <td>NaN</td>\n",
       "      <td>Yes</td>\n",
       "      <td>0</td>\n",
       "      <td>150.0</td>\n",
       "    </tr>\n",
       "    <tr>\n",
       "      <th>1</th>\n",
       "      <td>3.0</td>\n",
       "      <td>Yes</td>\n",
       "      <td>0</td>\n",
       "      <td>250.0</td>\n",
       "    </tr>\n",
       "    <tr>\n",
       "      <th>2</th>\n",
       "      <td>1.0</td>\n",
       "      <td>No</td>\n",
       "      <td>3</td>\n",
       "      <td>100.0</td>\n",
       "    </tr>\n",
       "    <tr>\n",
       "      <th>3</th>\n",
       "      <td>0.0</td>\n",
       "      <td>No</td>\n",
       "      <td>0</td>\n",
       "      <td>NaN</td>\n",
       "    </tr>\n",
       "    <tr>\n",
       "      <th>4</th>\n",
       "      <td>3.0</td>\n",
       "      <td>Yes</td>\n",
       "      <td>3</td>\n",
       "      <td>220.0</td>\n",
       "    </tr>\n",
       "    <tr>\n",
       "      <th>5</th>\n",
       "      <td>2.0</td>\n",
       "      <td>Yes</td>\n",
       "      <td>3</td>\n",
       "      <td>135.0</td>\n",
       "    </tr>\n",
       "    <tr>\n",
       "      <th>6</th>\n",
       "      <td>2.0</td>\n",
       "      <td>Yes</td>\n",
       "      <td>0</td>\n",
       "      <td>140.0</td>\n",
       "    </tr>\n",
       "    <tr>\n",
       "      <th>7</th>\n",
       "      <td>0.0</td>\n",
       "      <td>No</td>\n",
       "      <td>1</td>\n",
       "      <td>0.0</td>\n",
       "    </tr>\n",
       "  </tbody>\n",
       "</table>\n",
       "</div>"
      ],
      "text/plain": [
       "   Bedrooms Backyard  Nearby Schools  Price\n",
       "0       NaN      Yes               0  150.0\n",
       "1       3.0      Yes               0  250.0\n",
       "2       1.0       No               3  100.0\n",
       "3       0.0       No               0    NaN\n",
       "4       3.0      Yes               3  220.0\n",
       "5       2.0      Yes               3  135.0\n",
       "6       2.0      Yes               0  140.0\n",
       "7       0.0       No               1    0.0"
      ]
     },
     "execution_count": 1,
     "metadata": {},
     "output_type": "execute_result"
    }
   ],
   "source": [
    "import pandas as pd\n",
    "\n",
    "# df = pd.DataFrame({'Bedrooms': [None, 3, 1, 0, 3, 2, 2, 0], \n",
    "#                    'Backyard': ['Yes', 'Yes', 'No', 'No', 'Yes', 'Yes', 'Yes', 'No'],\n",
    "#                    'Number of Schools': [0, 0, 3, 0, 3, 3, 0, 1],\n",
    "#                    'Price' : [150, 250, 100, None, 220, 135, 140, 0]\n",
    "#                   })\n",
    "\n",
    "\n",
    "df = pd.read_csv('/Users/mhasan2/Library/CloudStorage/OneDrive-UniversityofNebraska-Lincoln/Datasets/DataScienceRepository/Housing_small.csv', header=0)\n",
    "df"
   ]
  },
  {
   "cell_type": "markdown",
   "metadata": {},
   "source": [
    "## Get Information on the Pandas Data Frame Object\n",
    "\n",
    "There are two types of columns. Columns with:\n",
    "- Numeric features\n",
    "- Categorical features (data type is an object)\n",
    "\n",
    "Use pandas info method to print information about a DataFrame including the index dtype and columns, non-null values, and memory usage."
   ]
  },
  {
   "cell_type": "code",
   "execution_count": 2,
   "metadata": {},
   "outputs": [
    {
     "name": "stdout",
     "output_type": "stream",
     "text": [
      "Dimension of the data:  (8, 4)\n",
      "<class 'pandas.core.frame.DataFrame'>\n",
      "RangeIndex: 8 entries, 0 to 7\n",
      "Data columns (total 4 columns):\n",
      " #   Column          Non-Null Count  Dtype  \n",
      "---  ------          --------------  -----  \n",
      " 0   Bedrooms        7 non-null      float64\n",
      " 1   Backyard        8 non-null      object \n",
      " 2   Nearby Schools  8 non-null      int64  \n",
      " 3   Price           7 non-null      float64\n",
      "dtypes: float64(2), int64(1), object(1)\n",
      "memory usage: 388.0+ bytes\n",
      "None\n"
     ]
    }
   ],
   "source": [
    "print(\"Dimension of the data: \", df.shape)\n",
    "\n",
    "print(df.info())"
   ]
  },
  {
   "cell_type": "markdown",
   "metadata": {},
   "source": [
    "## One-Hot Encode the Categorical Feature Columns \n",
    "\n",
    "From the above, we see that the \"Backyard\" column is non-numeric (its data type is \"object\"). We can convert a categorical variable into a dummy/indicator variable using the get_dummies method. Each variable is converted into as many 0/1 variables (one-hot encoded).\n",
    "\n",
    "First, we select all categorical columns. Then, we do the one-hot encoding. Finally, we will drop the categorical columns from the DataFrame object and combine the one-hot encoded columns with the numeric columns."
   ]
  },
  {
   "cell_type": "code",
   "execution_count": 3,
   "metadata": {},
   "outputs": [
    {
     "name": "stdout",
     "output_type": "stream",
     "text": [
      "Original DataFrame:\n",
      "   Bedrooms Backyard  Nearby Schools  Price\n",
      "0       NaN      Yes               0  150.0\n",
      "1       3.0      Yes               0  250.0\n",
      "2       1.0       No               3  100.0\n",
      "3       0.0       No               0    NaN\n",
      "4       3.0      Yes               3  220.0\n",
      "5       2.0      Yes               3  135.0\n",
      "6       2.0      Yes               0  140.0\n",
      "7       0.0       No               1    0.0\n",
      "\n",
      "One-Hot Encoded DataFrame:\n",
      "   Backyard_No  Backyard_Yes\n",
      "0            0             1\n",
      "1            0             1\n",
      "2            1             0\n",
      "3            1             0\n",
      "4            0             1\n",
      "5            0             1\n",
      "6            0             1\n",
      "7            1             0\n",
      "\n",
      "One-Hot Encoded Nonredundant DataFrame:\n",
      "   Backyard_Yes\n",
      "0             1\n",
      "1             1\n",
      "2             0\n",
      "3             0\n",
      "4             1\n",
      "5             1\n",
      "6             1\n",
      "7             0\n",
      "\n",
      "Final DataFrame with Nonredundant One-Hot Encoded Columns:\n",
      "   Bedrooms  Nearby Schools  Price  Backyard_Yes\n",
      "0       NaN               0  150.0             1\n",
      "1       3.0               0  250.0             1\n",
      "2       1.0               3  100.0             0\n",
      "3       0.0               0    NaN             0\n",
      "4       3.0               3  220.0             1\n",
      "5       2.0               3  135.0             1\n",
      "6       2.0               0  140.0             1\n",
      "7       0.0               1    0.0             0\n"
     ]
    }
   ],
   "source": [
    "print(\"Original DataFrame:\")\n",
    "print(df)\n",
    "\n",
    "# Step 1: Separate object columns\n",
    "category_df = df.select_dtypes('object')\n",
    "\n",
    "\n",
    "'''\n",
    "Step 2: One-hot encode the object columns. \n",
    "After using get_dummies, typecast the variable into an integer.\n",
    "'''\n",
    "dummy_df = pd.get_dummies(category_df).astype(int)\n",
    "\n",
    "'''\n",
    "When dealing with columns that have multiple categories, one-hot encoding creates a separate binary column for each category. \n",
    "For example, a column 'color' with values like \"red,\" \"blue,\" and \"green\" would result in three columns: color_red, color_blue, \n",
    "and color_green. \n",
    "To avoid redundancy, only n-1 columns are needed for n categories, as the last column can be inferred from the others. \n",
    "Using drop_first=True in pd.get_dummies drops the first category and reduces redundancy, \n",
    "making the remaining columns sufficient to represent all categories.\n",
    "'''\n",
    "dummy_nonredundant_df = pd.get_dummies(category_df, drop_first=True).astype(int)\n",
    "\n",
    "# Step 3: Drop the original object columns from the original DataFrame\n",
    "df_non_object = df.drop(columns=category_df.columns)\n",
    "\n",
    "# Step 4: Combine the one-hot encoded columns with the non-object columns\n",
    "df = pd.concat([df_non_object, dummy_nonredundant_df], axis=1)\n",
    "\n",
    "\n",
    "print(\"\\nOne-Hot Encoded DataFrame:\")\n",
    "print(dummy_df)\n",
    "print(\"\\nOne-Hot Encoded Nonredundant DataFrame:\")\n",
    "print(dummy_nonredundant_df)\n",
    "print(\"\\nFinal DataFrame with Nonredundant One-Hot Encoded Columns:\")\n",
    "print(df)"
   ]
  },
  {
   "cell_type": "markdown",
   "metadata": {},
   "source": [
    "## Check Whether the Data Frame Cell Values are Null or Not-Null\n",
    "\n",
    "To detect NaN (not a number) values, use either the isna or isnull methods.\n",
    "\n",
    "It will display True/False for **all cells** in the data frame."
   ]
  },
  {
   "cell_type": "code",
   "execution_count": 4,
   "metadata": {},
   "outputs": [
    {
     "data": {
      "text/html": [
       "<div>\n",
       "<style scoped>\n",
       "    .dataframe tbody tr th:only-of-type {\n",
       "        vertical-align: middle;\n",
       "    }\n",
       "\n",
       "    .dataframe tbody tr th {\n",
       "        vertical-align: top;\n",
       "    }\n",
       "\n",
       "    .dataframe thead th {\n",
       "        text-align: right;\n",
       "    }\n",
       "</style>\n",
       "<table border=\"1\" class=\"dataframe\">\n",
       "  <thead>\n",
       "    <tr style=\"text-align: right;\">\n",
       "      <th></th>\n",
       "      <th>Bedrooms</th>\n",
       "      <th>Nearby Schools</th>\n",
       "      <th>Price</th>\n",
       "      <th>Backyard_Yes</th>\n",
       "    </tr>\n",
       "  </thead>\n",
       "  <tbody>\n",
       "    <tr>\n",
       "      <th>0</th>\n",
       "      <td>True</td>\n",
       "      <td>False</td>\n",
       "      <td>False</td>\n",
       "      <td>False</td>\n",
       "    </tr>\n",
       "    <tr>\n",
       "      <th>1</th>\n",
       "      <td>False</td>\n",
       "      <td>False</td>\n",
       "      <td>False</td>\n",
       "      <td>False</td>\n",
       "    </tr>\n",
       "    <tr>\n",
       "      <th>2</th>\n",
       "      <td>False</td>\n",
       "      <td>False</td>\n",
       "      <td>False</td>\n",
       "      <td>False</td>\n",
       "    </tr>\n",
       "    <tr>\n",
       "      <th>3</th>\n",
       "      <td>False</td>\n",
       "      <td>False</td>\n",
       "      <td>True</td>\n",
       "      <td>False</td>\n",
       "    </tr>\n",
       "    <tr>\n",
       "      <th>4</th>\n",
       "      <td>False</td>\n",
       "      <td>False</td>\n",
       "      <td>False</td>\n",
       "      <td>False</td>\n",
       "    </tr>\n",
       "    <tr>\n",
       "      <th>5</th>\n",
       "      <td>False</td>\n",
       "      <td>False</td>\n",
       "      <td>False</td>\n",
       "      <td>False</td>\n",
       "    </tr>\n",
       "    <tr>\n",
       "      <th>6</th>\n",
       "      <td>False</td>\n",
       "      <td>False</td>\n",
       "      <td>False</td>\n",
       "      <td>False</td>\n",
       "    </tr>\n",
       "    <tr>\n",
       "      <th>7</th>\n",
       "      <td>False</td>\n",
       "      <td>False</td>\n",
       "      <td>False</td>\n",
       "      <td>False</td>\n",
       "    </tr>\n",
       "  </tbody>\n",
       "</table>\n",
       "</div>"
      ],
      "text/plain": [
       "   Bedrooms  Nearby Schools  Price  Backyard_Yes\n",
       "0      True           False  False         False\n",
       "1     False           False  False         False\n",
       "2     False           False  False         False\n",
       "3     False           False   True         False\n",
       "4     False           False  False         False\n",
       "5     False           False  False         False\n",
       "6     False           False  False         False\n",
       "7     False           False  False         False"
      ]
     },
     "execution_count": 4,
     "metadata": {},
     "output_type": "execute_result"
    }
   ],
   "source": [
    "df.isna()"
   ]
  },
  {
   "cell_type": "markdown",
   "metadata": {},
   "source": [
    "## Check if there are any null values in any column\n",
    "\n",
    "The above technique to detect NaN values is inefficient for large files. We may use the following technique instead."
   ]
  },
  {
   "cell_type": "code",
   "execution_count": 5,
   "metadata": {},
   "outputs": [
    {
     "data": {
      "text/plain": [
       "True"
      ]
     },
     "execution_count": 5,
     "metadata": {},
     "output_type": "execute_result"
    }
   ],
   "source": [
    "#df.isnull().values.any()\n",
    "df.isna().values.any()"
   ]
  },
  {
   "cell_type": "markdown",
   "metadata": {},
   "source": [
    "# Identify the columns with null values"
   ]
  },
  {
   "cell_type": "code",
   "execution_count": 6,
   "metadata": {},
   "outputs": [
    {
     "name": "stdout",
     "output_type": "stream",
     "text": [
      "['Bedrooms', 'Price']\n"
     ]
    }
   ],
   "source": [
    "null_columns = df.columns[df.isna().any()].tolist()\n",
    "print(null_columns)"
   ]
  },
  {
   "cell_type": "markdown",
   "metadata": {},
   "source": [
    "## Check if there are any null values in a specifc column"
   ]
  },
  {
   "cell_type": "code",
   "execution_count": 7,
   "metadata": {},
   "outputs": [
    {
     "data": {
      "text/plain": [
       "0    False\n",
       "1    False\n",
       "2    False\n",
       "3     True\n",
       "4    False\n",
       "5    False\n",
       "6    False\n",
       "7    False\n",
       "Name: Price, dtype: bool"
      ]
     },
     "execution_count": 7,
     "metadata": {},
     "output_type": "execute_result"
    }
   ],
   "source": [
    "df['Price'].isnull()"
   ]
  },
  {
   "cell_type": "markdown",
   "metadata": {},
   "source": [
    "## Count the null values in a specifc column"
   ]
  },
  {
   "cell_type": "code",
   "execution_count": 8,
   "metadata": {},
   "outputs": [
    {
     "data": {
      "text/plain": [
       "1"
      ]
     },
     "execution_count": 8,
     "metadata": {},
     "output_type": "execute_result"
    }
   ],
   "source": [
    "df['Price'].isnull().sum()"
   ]
  },
  {
   "cell_type": "markdown",
   "metadata": {},
   "source": [
    "## Data Cleaning\n",
    "\n",
    "We need to clean the missing features, otherwise the ML algorithms won’t work. By \"missing\" we simply mean NA (\"not available\") or \"not present for whatever reason\". Many data sets simply arrive with missing data, either because it exists and was not collected or it never existed. \n",
    "\n",
    "- The NaN is the default missing value marker.\n",
    "\n",
    "There are at least three techniques to clean data:\n",
    "\n",
    "\n",
    "- Replace Missing Feature Values\n",
    "- Drop \"NA\" Missing Feature Values\n",
    "- Drop \"Non-NA\" Missing Feature Values\n",
    "\n",
    "\n"
   ]
  },
  {
   "cell_type": "markdown",
   "metadata": {},
   "source": [
    "## Replace Missing Feature Values\n",
    "\n",
    "We can replace an empty cell using DataFrame’s fillna() method.\n",
    "\n",
    "The fillna() method can \"fill in\" NA (Not Available) or missing values with non-NA data in a couple of ways.\n",
    "\n",
    "For example, we can fill in the empty cells with 0 values: df[\"Bedrooms\"] = df[\"Bedrooms\"].fillna(0)\n",
    "\n",
    "Or, we can fill in the empty cells with median values, as shown below.\n"
   ]
  },
  {
   "cell_type": "code",
   "execution_count": 9,
   "metadata": {},
   "outputs": [
    {
     "name": "stdout",
     "output_type": "stream",
     "text": [
      "DataFrame (Original)\n",
      "   Bedrooms  Nearby Schools  Price  Backyard_Yes\n",
      "0       NaN               0  150.0             1\n",
      "1       3.0               0  250.0             1\n",
      "2       1.0               3  100.0             0\n",
      "3       0.0               0    NaN             0\n",
      "4       3.0               3  220.0             1\n",
      "5       2.0               3  135.0             1\n",
      "6       2.0               0  140.0             1\n",
      "7       0.0               1    0.0             0\n",
      "\n",
      "\n",
      "Median value for Bedrooms:  2.0\n",
      "\n",
      "\n",
      "DataFrame (after replacing the NaN value in the Bedrooms column )\n",
      "   Bedrooms  Nearby Schools  Price  Backyard_Yes\n",
      "0       2.0               0  150.0             1\n",
      "1       3.0               0  250.0             1\n",
      "2       1.0               3  100.0             0\n",
      "3       0.0               0    NaN             0\n",
      "4       3.0               3  220.0             1\n",
      "5       2.0               3  135.0             1\n",
      "6       2.0               0  140.0             1\n",
      "7       0.0               1    0.0             0\n"
     ]
    }
   ],
   "source": [
    "print(\"DataFrame (Original)\")\n",
    "print(df)\n",
    "\n",
    "median_Bedrooms = df[\"Bedrooms\"].median() \n",
    "\n",
    "print(\"\\n\\nMedian value for Bedrooms: \", median_Bedrooms)\n",
    "\n",
    "df[\"Bedrooms\"] = df[\"Bedrooms\"].fillna(median_Bedrooms)\n",
    "\n",
    "print(\"\\n\\nDataFrame (after replacing the NaN value in the Bedrooms column )\")\n",
    "print(df)"
   ]
  },
  {
   "cell_type": "markdown",
   "metadata": {},
   "source": [
    "## Drop \"NA\" Missing Feature Values\n",
    "\n",
    " If the label of a sample is missing, we can drop that sample using the DataFrame's dropna() method.\n",
    "\n",
    "- To drop the rows with missing values, set the \"axis\" attribute to the value 0\n",
    "\n",
    "Additionally, we can drop the columns with missing values, set the \"axis\" attribute to the value 1\n"
   ]
  },
  {
   "cell_type": "code",
   "execution_count": 10,
   "metadata": {},
   "outputs": [
    {
     "name": "stdout",
     "output_type": "stream",
     "text": [
      "DataFrame (Original)\n",
      "   Bedrooms  Nearby Schools  Price  Backyard_Yes\n",
      "0       2.0               0  150.0             1\n",
      "1       3.0               0  250.0             1\n",
      "2       1.0               3  100.0             0\n",
      "3       0.0               0    NaN             0\n",
      "4       3.0               3  220.0             1\n",
      "5       2.0               3  135.0             1\n",
      "6       2.0               0  140.0             1\n",
      "7       0.0               1    0.0             0\n",
      "\n",
      "\n",
      "DataFrame (after removing the rows with missing values)\n",
      "   Bedrooms  Nearby Schools  Price  Backyard_Yes\n",
      "0       2.0               0  150.0             1\n",
      "1       3.0               0  250.0             1\n",
      "2       1.0               3  100.0             0\n",
      "4       3.0               3  220.0             1\n",
      "5       2.0               3  135.0             1\n",
      "6       2.0               0  140.0             1\n",
      "7       0.0               1    0.0             0\n"
     ]
    }
   ],
   "source": [
    "# Make a deep copy of the DataFrame object\n",
    "df_copy = df.copy()\n",
    "\n",
    "# Remove the rows with missing values \n",
    "df_copy = df_copy.dropna(axis=0)\n",
    "\n",
    "\n",
    "print(\"DataFrame (Original)\")\n",
    "print(df)\n",
    "\n",
    "print(\"\\n\\nDataFrame (after removing the rows with missing values)\")\n",
    "print(df_copy)"
   ]
  },
  {
   "cell_type": "markdown",
   "metadata": {},
   "source": [
    "### Specify a column to remove rows if that column has NaN values\n",
    "\n",
    "Use the subset parameter in the dropna method to achieve this."
   ]
  },
  {
   "cell_type": "code",
   "execution_count": 11,
   "metadata": {},
   "outputs": [
    {
     "name": "stdout",
     "output_type": "stream",
     "text": [
      "DataFrame (Original)\n",
      "   Bedrooms  Nearby Schools  Price  Backyard_Yes\n",
      "0       2.0               0  150.0             1\n",
      "1       3.0               0  250.0             1\n",
      "2       1.0               3  100.0             0\n",
      "3       0.0               0    NaN             0\n",
      "4       3.0               3  220.0             1\n",
      "5       2.0               3  135.0             1\n",
      "6       2.0               0  140.0             1\n",
      "7       0.0               1    0.0             0\n",
      "\n",
      "\n",
      "DataFrame (after removing the rows with missing values)\n",
      "   Bedrooms  Nearby Schools  Price  Backyard_Yes\n",
      "0       2.0               0  150.0             1\n",
      "1       3.0               0  250.0             1\n",
      "2       1.0               3  100.0             0\n",
      "4       3.0               3  220.0             1\n",
      "5       2.0               3  135.0             1\n",
      "6       2.0               0  140.0             1\n",
      "7       0.0               1    0.0             0\n"
     ]
    }
   ],
   "source": [
    "# Make a deep copy of the DataFrame object\n",
    "df_copy_1 = df.copy()\n",
    "\n",
    "df_copy_1 = df_copy_1.dropna(subset=['Price'])\n",
    "\n",
    "\n",
    "print(\"DataFrame (Original)\")\n",
    "print(df)\n",
    "\n",
    "print(\"\\n\\nDataFrame (after removing the rows with missing values)\")\n",
    "print(df_copy_1)"
   ]
  },
  {
   "cell_type": "markdown",
   "metadata": {},
   "source": [
    "## Non-contiguous Indexing\n",
    "\n",
    "After removing some rows, the indexing will become non-contiguous. To create contiguous indexing, use the following method:\n",
    "- reset_index(inplace=True, drop=True) "
   ]
  },
  {
   "cell_type": "code",
   "execution_count": 12,
   "metadata": {},
   "outputs": [
    {
     "data": {
      "text/html": [
       "<div>\n",
       "<style scoped>\n",
       "    .dataframe tbody tr th:only-of-type {\n",
       "        vertical-align: middle;\n",
       "    }\n",
       "\n",
       "    .dataframe tbody tr th {\n",
       "        vertical-align: top;\n",
       "    }\n",
       "\n",
       "    .dataframe thead th {\n",
       "        text-align: right;\n",
       "    }\n",
       "</style>\n",
       "<table border=\"1\" class=\"dataframe\">\n",
       "  <thead>\n",
       "    <tr style=\"text-align: right;\">\n",
       "      <th></th>\n",
       "      <th>Bedrooms</th>\n",
       "      <th>Nearby Schools</th>\n",
       "      <th>Price</th>\n",
       "      <th>Backyard_Yes</th>\n",
       "    </tr>\n",
       "  </thead>\n",
       "  <tbody>\n",
       "    <tr>\n",
       "      <th>0</th>\n",
       "      <td>2.0</td>\n",
       "      <td>0</td>\n",
       "      <td>150.0</td>\n",
       "      <td>1</td>\n",
       "    </tr>\n",
       "    <tr>\n",
       "      <th>1</th>\n",
       "      <td>3.0</td>\n",
       "      <td>0</td>\n",
       "      <td>250.0</td>\n",
       "      <td>1</td>\n",
       "    </tr>\n",
       "    <tr>\n",
       "      <th>2</th>\n",
       "      <td>1.0</td>\n",
       "      <td>3</td>\n",
       "      <td>100.0</td>\n",
       "      <td>0</td>\n",
       "    </tr>\n",
       "    <tr>\n",
       "      <th>3</th>\n",
       "      <td>3.0</td>\n",
       "      <td>3</td>\n",
       "      <td>220.0</td>\n",
       "      <td>1</td>\n",
       "    </tr>\n",
       "    <tr>\n",
       "      <th>4</th>\n",
       "      <td>2.0</td>\n",
       "      <td>3</td>\n",
       "      <td>135.0</td>\n",
       "      <td>1</td>\n",
       "    </tr>\n",
       "    <tr>\n",
       "      <th>5</th>\n",
       "      <td>2.0</td>\n",
       "      <td>0</td>\n",
       "      <td>140.0</td>\n",
       "      <td>1</td>\n",
       "    </tr>\n",
       "    <tr>\n",
       "      <th>6</th>\n",
       "      <td>0.0</td>\n",
       "      <td>1</td>\n",
       "      <td>0.0</td>\n",
       "      <td>0</td>\n",
       "    </tr>\n",
       "  </tbody>\n",
       "</table>\n",
       "</div>"
      ],
      "text/plain": [
       "   Bedrooms  Nearby Schools  Price  Backyard_Yes\n",
       "0       2.0               0  150.0             1\n",
       "1       3.0               0  250.0             1\n",
       "2       1.0               3  100.0             0\n",
       "3       3.0               3  220.0             1\n",
       "4       2.0               3  135.0             1\n",
       "5       2.0               0  140.0             1\n",
       "6       0.0               1    0.0             0"
      ]
     },
     "execution_count": 12,
     "metadata": {},
     "output_type": "execute_result"
    }
   ],
   "source": [
    "df_copy.reset_index(inplace=True, drop=True) \n",
    "df_copy"
   ]
  },
  {
   "cell_type": "markdown",
   "metadata": {},
   "source": [
    "### For the next task, we will use the original DataFrame object named \"df\"."
   ]
  },
  {
   "cell_type": "code",
   "execution_count": 13,
   "metadata": {},
   "outputs": [
    {
     "data": {
      "text/html": [
       "<div>\n",
       "<style scoped>\n",
       "    .dataframe tbody tr th:only-of-type {\n",
       "        vertical-align: middle;\n",
       "    }\n",
       "\n",
       "    .dataframe tbody tr th {\n",
       "        vertical-align: top;\n",
       "    }\n",
       "\n",
       "    .dataframe thead th {\n",
       "        text-align: right;\n",
       "    }\n",
       "</style>\n",
       "<table border=\"1\" class=\"dataframe\">\n",
       "  <thead>\n",
       "    <tr style=\"text-align: right;\">\n",
       "      <th></th>\n",
       "      <th>Bedrooms</th>\n",
       "      <th>Nearby Schools</th>\n",
       "      <th>Price</th>\n",
       "      <th>Backyard_Yes</th>\n",
       "    </tr>\n",
       "  </thead>\n",
       "  <tbody>\n",
       "    <tr>\n",
       "      <th>0</th>\n",
       "      <td>2.0</td>\n",
       "      <td>0</td>\n",
       "      <td>150.0</td>\n",
       "      <td>1</td>\n",
       "    </tr>\n",
       "    <tr>\n",
       "      <th>1</th>\n",
       "      <td>3.0</td>\n",
       "      <td>0</td>\n",
       "      <td>250.0</td>\n",
       "      <td>1</td>\n",
       "    </tr>\n",
       "    <tr>\n",
       "      <th>2</th>\n",
       "      <td>1.0</td>\n",
       "      <td>3</td>\n",
       "      <td>100.0</td>\n",
       "      <td>0</td>\n",
       "    </tr>\n",
       "    <tr>\n",
       "      <th>3</th>\n",
       "      <td>0.0</td>\n",
       "      <td>0</td>\n",
       "      <td>NaN</td>\n",
       "      <td>0</td>\n",
       "    </tr>\n",
       "    <tr>\n",
       "      <th>4</th>\n",
       "      <td>3.0</td>\n",
       "      <td>3</td>\n",
       "      <td>220.0</td>\n",
       "      <td>1</td>\n",
       "    </tr>\n",
       "    <tr>\n",
       "      <th>5</th>\n",
       "      <td>2.0</td>\n",
       "      <td>3</td>\n",
       "      <td>135.0</td>\n",
       "      <td>1</td>\n",
       "    </tr>\n",
       "    <tr>\n",
       "      <th>6</th>\n",
       "      <td>2.0</td>\n",
       "      <td>0</td>\n",
       "      <td>140.0</td>\n",
       "      <td>1</td>\n",
       "    </tr>\n",
       "    <tr>\n",
       "      <th>7</th>\n",
       "      <td>0.0</td>\n",
       "      <td>1</td>\n",
       "      <td>0.0</td>\n",
       "      <td>0</td>\n",
       "    </tr>\n",
       "  </tbody>\n",
       "</table>\n",
       "</div>"
      ],
      "text/plain": [
       "   Bedrooms  Nearby Schools  Price  Backyard_Yes\n",
       "0       2.0               0  150.0             1\n",
       "1       3.0               0  250.0             1\n",
       "2       1.0               3  100.0             0\n",
       "3       0.0               0    NaN             0\n",
       "4       3.0               3  220.0             1\n",
       "5       2.0               3  135.0             1\n",
       "6       2.0               0  140.0             1\n",
       "7       0.0               1    0.0             0"
      ]
     },
     "execution_count": 13,
     "metadata": {},
     "output_type": "execute_result"
    }
   ],
   "source": [
    "df"
   ]
  },
  {
   "cell_type": "markdown",
   "metadata": {},
   "source": [
    "## Drop the \"Non-NA\" Missing Feature Values\n",
    "\n",
    "Sometimes we consider some values (other than NA) as \"missing\" values.\n",
    "\n",
    "For this demo, the value \"0\" in the target column (\"Price\") could be considered as a missing value. \n",
    "\n",
    "\n",
    "\n",
    "\n",
    "## Check Whether Each element in the DataFrame Contains Specific Values (e.g., 0)\n",
    "\n",
    "Use the isin(values) method to check whether the cells contain the \"values\", such as 0."
   ]
  },
  {
   "cell_type": "code",
   "execution_count": 14,
   "metadata": {},
   "outputs": [
    {
     "data": {
      "text/html": [
       "<div>\n",
       "<style scoped>\n",
       "    .dataframe tbody tr th:only-of-type {\n",
       "        vertical-align: middle;\n",
       "    }\n",
       "\n",
       "    .dataframe tbody tr th {\n",
       "        vertical-align: top;\n",
       "    }\n",
       "\n",
       "    .dataframe thead th {\n",
       "        text-align: right;\n",
       "    }\n",
       "</style>\n",
       "<table border=\"1\" class=\"dataframe\">\n",
       "  <thead>\n",
       "    <tr style=\"text-align: right;\">\n",
       "      <th></th>\n",
       "      <th>Bedrooms</th>\n",
       "      <th>Nearby Schools</th>\n",
       "      <th>Price</th>\n",
       "      <th>Backyard_Yes</th>\n",
       "    </tr>\n",
       "  </thead>\n",
       "  <tbody>\n",
       "    <tr>\n",
       "      <th>0</th>\n",
       "      <td>False</td>\n",
       "      <td>True</td>\n",
       "      <td>False</td>\n",
       "      <td>False</td>\n",
       "    </tr>\n",
       "    <tr>\n",
       "      <th>1</th>\n",
       "      <td>False</td>\n",
       "      <td>True</td>\n",
       "      <td>False</td>\n",
       "      <td>False</td>\n",
       "    </tr>\n",
       "    <tr>\n",
       "      <th>2</th>\n",
       "      <td>False</td>\n",
       "      <td>False</td>\n",
       "      <td>False</td>\n",
       "      <td>True</td>\n",
       "    </tr>\n",
       "    <tr>\n",
       "      <th>3</th>\n",
       "      <td>True</td>\n",
       "      <td>True</td>\n",
       "      <td>False</td>\n",
       "      <td>True</td>\n",
       "    </tr>\n",
       "    <tr>\n",
       "      <th>4</th>\n",
       "      <td>False</td>\n",
       "      <td>False</td>\n",
       "      <td>False</td>\n",
       "      <td>False</td>\n",
       "    </tr>\n",
       "    <tr>\n",
       "      <th>5</th>\n",
       "      <td>False</td>\n",
       "      <td>False</td>\n",
       "      <td>False</td>\n",
       "      <td>False</td>\n",
       "    </tr>\n",
       "    <tr>\n",
       "      <th>6</th>\n",
       "      <td>False</td>\n",
       "      <td>True</td>\n",
       "      <td>False</td>\n",
       "      <td>False</td>\n",
       "    </tr>\n",
       "    <tr>\n",
       "      <th>7</th>\n",
       "      <td>True</td>\n",
       "      <td>False</td>\n",
       "      <td>True</td>\n",
       "      <td>True</td>\n",
       "    </tr>\n",
       "  </tbody>\n",
       "</table>\n",
       "</div>"
      ],
      "text/plain": [
       "   Bedrooms  Nearby Schools  Price  Backyard_Yes\n",
       "0     False            True  False         False\n",
       "1     False            True  False         False\n",
       "2     False           False  False          True\n",
       "3      True            True  False          True\n",
       "4     False           False  False         False\n",
       "5     False           False  False         False\n",
       "6     False            True  False         False\n",
       "7      True           False   True          True"
      ]
     },
     "execution_count": 14,
     "metadata": {},
     "output_type": "execute_result"
    }
   ],
   "source": [
    "df.isin([0])"
   ]
  },
  {
   "cell_type": "markdown",
   "metadata": {},
   "source": [
    "## Drop the Rows Where the 'Price' Column Has Zero Values"
   ]
  },
  {
   "cell_type": "code",
   "execution_count": 15,
   "metadata": {},
   "outputs": [
    {
     "data": {
      "text/html": [
       "<div>\n",
       "<style scoped>\n",
       "    .dataframe tbody tr th:only-of-type {\n",
       "        vertical-align: middle;\n",
       "    }\n",
       "\n",
       "    .dataframe tbody tr th {\n",
       "        vertical-align: top;\n",
       "    }\n",
       "\n",
       "    .dataframe thead th {\n",
       "        text-align: right;\n",
       "    }\n",
       "</style>\n",
       "<table border=\"1\" class=\"dataframe\">\n",
       "  <thead>\n",
       "    <tr style=\"text-align: right;\">\n",
       "      <th></th>\n",
       "      <th>Bedrooms</th>\n",
       "      <th>Nearby Schools</th>\n",
       "      <th>Price</th>\n",
       "      <th>Backyard_Yes</th>\n",
       "    </tr>\n",
       "  </thead>\n",
       "  <tbody>\n",
       "    <tr>\n",
       "      <th>0</th>\n",
       "      <td>2.0</td>\n",
       "      <td>0</td>\n",
       "      <td>150.0</td>\n",
       "      <td>1</td>\n",
       "    </tr>\n",
       "    <tr>\n",
       "      <th>1</th>\n",
       "      <td>3.0</td>\n",
       "      <td>0</td>\n",
       "      <td>250.0</td>\n",
       "      <td>1</td>\n",
       "    </tr>\n",
       "    <tr>\n",
       "      <th>2</th>\n",
       "      <td>1.0</td>\n",
       "      <td>3</td>\n",
       "      <td>100.0</td>\n",
       "      <td>0</td>\n",
       "    </tr>\n",
       "    <tr>\n",
       "      <th>3</th>\n",
       "      <td>0.0</td>\n",
       "      <td>0</td>\n",
       "      <td>NaN</td>\n",
       "      <td>0</td>\n",
       "    </tr>\n",
       "    <tr>\n",
       "      <th>4</th>\n",
       "      <td>3.0</td>\n",
       "      <td>3</td>\n",
       "      <td>220.0</td>\n",
       "      <td>1</td>\n",
       "    </tr>\n",
       "    <tr>\n",
       "      <th>5</th>\n",
       "      <td>2.0</td>\n",
       "      <td>3</td>\n",
       "      <td>135.0</td>\n",
       "      <td>1</td>\n",
       "    </tr>\n",
       "    <tr>\n",
       "      <th>6</th>\n",
       "      <td>2.0</td>\n",
       "      <td>0</td>\n",
       "      <td>140.0</td>\n",
       "      <td>1</td>\n",
       "    </tr>\n",
       "  </tbody>\n",
       "</table>\n",
       "</div>"
      ],
      "text/plain": [
       "   Bedrooms  Nearby Schools  Price  Backyard_Yes\n",
       "0       2.0               0  150.0             1\n",
       "1       3.0               0  250.0             1\n",
       "2       1.0               3  100.0             0\n",
       "3       0.0               0    NaN             0\n",
       "4       3.0               3  220.0             1\n",
       "5       2.0               3  135.0             1\n",
       "6       2.0               0  140.0             1"
      ]
     },
     "execution_count": 15,
     "metadata": {},
     "output_type": "execute_result"
    }
   ],
   "source": [
    "df = df[~df['Price'].isin([0])]\n",
    "df"
   ]
  },
  {
   "cell_type": "markdown",
   "metadata": {},
   "source": [
    "## Numerical Correlations with the Target Column\n",
    "\n",
    "Since the dataset is not too large, we can easily compute the standard correlation coefficient (also called Pearson’s r) between the target and all features using DataFrame's corr() method."
   ]
  },
  {
   "cell_type": "code",
   "execution_count": 16,
   "metadata": {},
   "outputs": [
    {
     "data": {
      "text/plain": [
       "Price             1.000000\n",
       "Bedrooms          0.980431\n",
       "Backyard_Yes      0.772926\n",
       "Nearby Schools   -0.076385\n",
       "Name: Price, dtype: float64"
      ]
     },
     "execution_count": 16,
     "metadata": {},
     "output_type": "execute_result"
    }
   ],
   "source": [
    "# Set display options to show more rows\n",
    "pd.set_option('display.max_rows', None)\n",
    "\n",
    "df_copy.corr()['Price'].sort_values(ascending=False)"
   ]
  },
  {
   "cell_type": "markdown",
   "metadata": {},
   "source": [
    "## Visualize the Numerical Correlation\n",
    "\n",
    "We create a pair plot to visualize the relationships of the features. For this, we use the seaborn pairplot function.\n",
    "\n",
    "A pairplot provides pairwise relationships of the features in a dataset. The pairplot function creates a grid of Axes such that each variable in data will be shared on the y-axis across a single row and on the x-axis across a single column. \n",
    "\n",
    "We also show the Pearson correlation coefficient (Pearson's r) between pairs of features as well as the density plot."
   ]
  },
  {
   "cell_type": "code",
   "execution_count": 17,
   "metadata": {},
   "outputs": [
    {
     "data": {
      "image/png": "[encoded data removed]",
      "text/plain": [
       "<Figure size 1000x1000 with 20 Axes>"
      ]
     },
     "metadata": {},
     "output_type": "display_data"
    }
   ],
   "source": [
    "# Matplotlib and seaborn for plotting\n",
    "import matplotlib.pyplot as plt\n",
    "import seaborn as sns\n",
    "from scipy import stats\n",
    "\n",
    "# Calculate correlation coefficient\n",
    "def corrfunc(x, y, **kws):\n",
    "    r, _ = stats.pearsonr(x, y)\n",
    "    ax = plt.gca()\n",
    "    ax.annotate(\"r = {:.2f}\".format(r),\n",
    "                xy=(.1, .6), xycoords=ax.transAxes,\n",
    "               size = 24)\n",
    "    \n",
    "cmap = sns.cubehelix_palette(light=1, dark = 0.1,\n",
    "                             hue = 0.5, as_cmap=True)\n",
    "\n",
    "sns.set_context(font_scale=2)\n",
    "\n",
    "# Pair plot\n",
    "g = sns.pairplot(df_copy)\n",
    "\n",
    "# Scatter plot on the upper triangle\n",
    "g.map_upper(plt.scatter, s=10, color = 'red')\n",
    "\n",
    "# Distribution on the diagonal\n",
    "#g.map_diag(sns.distplot, kde=False, color = 'red') # distplot is deprecated\n",
    "#g.map_diag(sns.displot, kde=False, color = 'red')\n",
    "g.map_diag(sns.histplot, kde=False, color = 'red')\n",
    "\n",
    "# Density Plot and Correlation coefficients on the lower triangle\n",
    "#g.map_lower(sns.kdeplot, cmap = cmap)\n",
    "g.map_lower(corrfunc);"
   ]
  },
  {
   "cell_type": "markdown",
   "metadata": {},
   "source": [
    "## Select a Subset of the Columns\n",
    "\n",
    "After analyzing the feature correlation with the target, we may need to drop some features that don't have a significant correlation with the target.\n",
    "\n",
    "For selecting a subset of feature columns from a pandas DataFrame object, we can **slice** the DataFrame object.\n",
    "\n",
    "The pandas offers at least three methods for slicing data: .loc[], .iloc[], and .ix[].\n",
    "\n",
    "Here is a quick reference:\n",
    "\n",
    "- .loc[] takes slices based on labels. This means that it will take into account the names or labels of the index when taking slices.\n",
    "\n",
    "- .iloc[] takes slices based on index’s position. We need to indicate the positional index number to get the appropriate slice.\n",
    "\n",
    "- .ix[] uses both labels and positions.\n",
    "\n",
    "## Slice based on labels\n",
    "\n",
    "We use the .loc[] method."
   ]
  },
  {
   "cell_type": "code",
   "execution_count": 18,
   "metadata": {},
   "outputs": [
    {
     "data": {
      "text/html": [
       "<div>\n",
       "<style scoped>\n",
       "    .dataframe tbody tr th:only-of-type {\n",
       "        vertical-align: middle;\n",
       "    }\n",
       "\n",
       "    .dataframe tbody tr th {\n",
       "        vertical-align: top;\n",
       "    }\n",
       "\n",
       "    .dataframe thead th {\n",
       "        text-align: right;\n",
       "    }\n",
       "</style>\n",
       "<table border=\"1\" class=\"dataframe\">\n",
       "  <thead>\n",
       "    <tr style=\"text-align: right;\">\n",
       "      <th></th>\n",
       "      <th>Bedrooms</th>\n",
       "      <th>Price</th>\n",
       "    </tr>\n",
       "  </thead>\n",
       "  <tbody>\n",
       "    <tr>\n",
       "      <th>0</th>\n",
       "      <td>2.0</td>\n",
       "      <td>150.0</td>\n",
       "    </tr>\n",
       "    <tr>\n",
       "      <th>1</th>\n",
       "      <td>3.0</td>\n",
       "      <td>250.0</td>\n",
       "    </tr>\n",
       "    <tr>\n",
       "      <th>2</th>\n",
       "      <td>1.0</td>\n",
       "      <td>100.0</td>\n",
       "    </tr>\n",
       "    <tr>\n",
       "      <th>3</th>\n",
       "      <td>3.0</td>\n",
       "      <td>220.0</td>\n",
       "    </tr>\n",
       "    <tr>\n",
       "      <th>4</th>\n",
       "      <td>2.0</td>\n",
       "      <td>135.0</td>\n",
       "    </tr>\n",
       "    <tr>\n",
       "      <th>5</th>\n",
       "      <td>2.0</td>\n",
       "      <td>140.0</td>\n",
       "    </tr>\n",
       "    <tr>\n",
       "      <th>6</th>\n",
       "      <td>0.0</td>\n",
       "      <td>0.0</td>\n",
       "    </tr>\n",
       "  </tbody>\n",
       "</table>\n",
       "</div>"
      ],
      "text/plain": [
       "   Bedrooms  Price\n",
       "0       2.0  150.0\n",
       "1       3.0  250.0\n",
       "2       1.0  100.0\n",
       "3       3.0  220.0\n",
       "4       2.0  135.0\n",
       "5       2.0  140.0\n",
       "6       0.0    0.0"
      ]
     },
     "execution_count": 18,
     "metadata": {},
     "output_type": "execute_result"
    }
   ],
   "source": [
    "df_subset1 = df_copy.loc[:, ['Bedrooms', 'Price']]\n",
    "df_subset1"
   ]
  },
  {
   "cell_type": "markdown",
   "metadata": {},
   "source": [
    "## Slice based on Index’s Position\n",
    "\n",
    "Use the .iloc[] method."
   ]
  },
  {
   "cell_type": "code",
   "execution_count": 19,
   "metadata": {},
   "outputs": [
    {
     "data": {
      "text/html": [
       "<div>\n",
       "<style scoped>\n",
       "    .dataframe tbody tr th:only-of-type {\n",
       "        vertical-align: middle;\n",
       "    }\n",
       "\n",
       "    .dataframe tbody tr th {\n",
       "        vertical-align: top;\n",
       "    }\n",
       "\n",
       "    .dataframe thead th {\n",
       "        text-align: right;\n",
       "    }\n",
       "</style>\n",
       "<table border=\"1\" class=\"dataframe\">\n",
       "  <thead>\n",
       "    <tr style=\"text-align: right;\">\n",
       "      <th></th>\n",
       "      <th>Bedrooms</th>\n",
       "      <th>Price</th>\n",
       "    </tr>\n",
       "  </thead>\n",
       "  <tbody>\n",
       "    <tr>\n",
       "      <th>0</th>\n",
       "      <td>2.0</td>\n",
       "      <td>150.0</td>\n",
       "    </tr>\n",
       "    <tr>\n",
       "      <th>1</th>\n",
       "      <td>3.0</td>\n",
       "      <td>250.0</td>\n",
       "    </tr>\n",
       "    <tr>\n",
       "      <th>2</th>\n",
       "      <td>1.0</td>\n",
       "      <td>100.0</td>\n",
       "    </tr>\n",
       "    <tr>\n",
       "      <th>3</th>\n",
       "      <td>3.0</td>\n",
       "      <td>220.0</td>\n",
       "    </tr>\n",
       "    <tr>\n",
       "      <th>4</th>\n",
       "      <td>2.0</td>\n",
       "      <td>135.0</td>\n",
       "    </tr>\n",
       "    <tr>\n",
       "      <th>5</th>\n",
       "      <td>2.0</td>\n",
       "      <td>140.0</td>\n",
       "    </tr>\n",
       "    <tr>\n",
       "      <th>6</th>\n",
       "      <td>0.0</td>\n",
       "      <td>0.0</td>\n",
       "    </tr>\n",
       "  </tbody>\n",
       "</table>\n",
       "</div>"
      ],
      "text/plain": [
       "   Bedrooms  Price\n",
       "0       2.0  150.0\n",
       "1       3.0  250.0\n",
       "2       1.0  100.0\n",
       "3       3.0  220.0\n",
       "4       2.0  135.0\n",
       "5       2.0  140.0\n",
       "6       0.0    0.0"
      ]
     },
     "execution_count": 19,
     "metadata": {},
     "output_type": "execute_result"
    }
   ],
   "source": [
    "df_subset2 = df_copy.iloc[:, [0, 2]]\n",
    "df_subset2"
   ]
  },
  {
   "cell_type": "markdown",
   "metadata": {},
   "source": [
    "## Create a Scatterplot of the Target Price and a Feature Bedrooms\n",
    "\n",
    "See various arguments of the Matplotlib's scatter function:\n",
    "\n",
    "https://matplotlib.org/3.3.3/api/_as_gen/matplotlib.pyplot.scatter.html"
   ]
  },
  {
   "cell_type": "code",
   "execution_count": 20,
   "metadata": {},
   "outputs": [
    {
     "data": {
      "image/png": "[encoded data removed]",
      "text/plain": [
       "<Figure size 1000x600 with 1 Axes>"
      ]
     },
     "metadata": {},
     "output_type": "display_data"
    }
   ],
   "source": [
    "import matplotlib.pyplot as plt\n",
    "\n",
    "plt.figure(figsize = (10, 6))\n",
    "plt.scatter(df_copy['Bedrooms'], df_copy['Price'], c=\"b\", marker='o')\n",
    "plt.xlabel(\"Bedrooms\", fontsize=12)\n",
    "plt.ylabel(\"Price\", rotation=90, fontsize=12)\n",
    "plt.show()"
   ]
  },
  {
   "cell_type": "markdown",
   "metadata": {},
   "source": [
    "## Create a Separate Feature Set (Data Matrix X) and Target (1D Array Y)\n",
    "\n",
    "Create a data matrix (X) that contains all features and a 1D target array (Y) containing the price.\n",
    "\n",
    "First, we create separate DataFrame objects for X and Y. Then, we convert the DataFrame objects into NumPy arrays."
   ]
  },
  {
   "cell_type": "code",
   "execution_count": 21,
   "metadata": {},
   "outputs": [
    {
     "name": "stdout",
     "output_type": "stream",
     "text": [
      "Data frame X:\n",
      "   Bedrooms  Nearby Schools  Backyard_Yes\n",
      "0       2.0               0             1\n",
      "1       3.0               0             1\n",
      "2       1.0               3             0\n",
      "3       3.0               3             1\n",
      "4       2.0               3             1\n",
      "5       2.0               0             1\n",
      "6       0.0               1             0\n",
      "\n",
      "Data frame Y:\n",
      "0    150.0\n",
      "1    250.0\n",
      "2    100.0\n",
      "3    220.0\n",
      "4    135.0\n",
      "5    140.0\n",
      "6      0.0\n",
      "Name: Price, dtype: float64\n"
     ]
    }
   ],
   "source": [
    "Y = df_copy['Price'] # Data frame containing the target \n",
    "X = df_copy.drop(columns='Price')  # Data frame containing all features excluding the target\n",
    "\n",
    "print(\"Data frame X:\")\n",
    "print(X)\n",
    "print(\"\\nData frame Y:\")\n",
    "print(Y)"
   ]
  },
  {
   "cell_type": "markdown",
   "metadata": {},
   "source": [
    "## Convert X & Y into Arrays\n",
    "\n",
    "Use the NumPy asarray() method to convert the Pandas data frame objects X and y into numpy arrays."
   ]
  },
  {
   "cell_type": "code",
   "execution_count": 22,
   "metadata": {},
   "outputs": [
    {
     "data": {
      "text/plain": [
       "array([[2., 0., 1.],\n",
       "       [3., 0., 1.],\n",
       "       [1., 3., 0.],\n",
       "       [3., 3., 1.],\n",
       "       [2., 3., 1.],\n",
       "       [2., 0., 1.],\n",
       "       [0., 1., 0.]])"
      ]
     },
     "execution_count": 22,
     "metadata": {},
     "output_type": "execute_result"
    }
   ],
   "source": [
    "import numpy as np\n",
    "\n",
    "X = np.asarray(X) # Data Matrix containing all features excluding the target\n",
    "X"
   ]
  },
  {
   "cell_type": "code",
   "execution_count": 23,
   "metadata": {},
   "outputs": [
    {
     "data": {
      "text/plain": [
       "array([150., 250., 100., 220., 135., 140.,   0.])"
      ]
     },
     "execution_count": 23,
     "metadata": {},
     "output_type": "execute_result"
    }
   ],
   "source": [
    "Y = np.asarray(Y) # 1D target array\n",
    "Y"
   ]
  },
  {
   "cell_type": "markdown",
   "metadata": {},
   "source": [
    "## Data Type of X and Y\n",
    "\n",
    "We can check the data type of X and Y arrays.\n",
    "\n",
    "For training ML models (in supervised learning), we may need the target data type to be integer. Below we show how to convert the target data type to \"int\"."
   ]
  },
  {
   "cell_type": "code",
   "execution_count": 24,
   "metadata": {},
   "outputs": [
    {
     "name": "stdout",
     "output_type": "stream",
     "text": [
      "X Data Type:  float64\n",
      "Y Data Type:  float64\n",
      "\n",
      "Y Data Type (after conversion to int):  int64\n"
     ]
    }
   ],
   "source": [
    "print(\"X Data Type: \", X.dtype)\n",
    "print(\"Y Data Type: \", Y.dtype)\n",
    "\n",
    "Y = Y.astype(int)\n",
    "print(\"\\nY Data Type (after conversion to int): \", Y.dtype)"
   ]
  }
 ],
 "metadata": {
  "kernelspec": {
   "display_name": "Python 3 (ipykernel)",
   "language": "python",
   "name": "python3"
  },
  "language_info": {
   "codemirror_mode": {
    "name": "ipython",
    "version": 3
   },
   "file_extension": ".py",
   "mimetype": "text/x-python",
   "name": "python",
   "nbconvert_exporter": "python",
   "pygments_lexer": "ipython3",
   "version": "3.11.5"
  }
 },
 "nbformat": 4,
 "nbformat_minor": 4
}
